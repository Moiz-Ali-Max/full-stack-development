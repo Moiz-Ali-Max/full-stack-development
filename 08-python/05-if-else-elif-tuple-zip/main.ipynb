{
 "cells": [
  {
   "cell_type": "markdown",
   "id": "fa151f43",
   "metadata": {},
   "source": [
    "## 06-If-Else-Elif"
   ]
  },
  {
   "cell_type": "markdown",
   "id": "f1f5f781",
   "metadata": {},
   "source": [
    "#### Comprehensive If-Else Example"
   ]
  },
  {
   "cell_type": "code",
   "execution_count": 2,
   "id": "fc95d9fb",
   "metadata": {},
   "outputs": [
    {
     "name": "stdout",
     "output_type": "stream",
     "text": [
      "I am True\n"
     ]
    }
   ],
   "source": [
    "if True:\n",
    "    print(\"I am True\")\n",
    "else:\n",
    "    print(\"I am False\")"
   ]
  },
  {
   "cell_type": "markdown",
   "id": "d4387177",
   "metadata": {},
   "source": [
    "#### Comparison Operator\n",
    "- ==\n",
    "- `>=`\n",
    "- <=\n",
    "- !=\n",
    "\n",
    "#### Logical Operator\n",
    "- AND\n",
    "- OR\n",
    "- NOT"
   ]
  },
  {
   "cell_type": "code",
   "execution_count": null,
   "id": "ba3a19c6",
   "metadata": {},
   "outputs": [],
   "source": []
  }
 ],
 "metadata": {
  "kernelspec": {
   "display_name": "python12",
   "language": "python",
   "name": "python3"
  },
  "language_info": {
   "codemirror_mode": {
    "name": "ipython",
    "version": 3
   },
   "file_extension": ".py",
   "mimetype": "text/x-python",
   "name": "python",
   "nbconvert_exporter": "python",
   "pygments_lexer": "ipython3",
   "version": "3.12.0"
  }
 },
 "nbformat": 4,
 "nbformat_minor": 5
}
